{
 "cells": [
  {
   "cell_type": "markdown",
   "metadata": {},
   "source": [
    "Importing the Libraries"
   ]
  },
  {
   "cell_type": "code",
   "execution_count": 21,
   "metadata": {},
   "outputs": [],
   "source": [
    "import numpy as np \n",
    "import matplotlib.pyplot as plt \n",
    "import pandas as pd \n",
    "import seaborn as sns"
   ]
  },
  {
   "cell_type": "markdown",
   "metadata": {},
   "source": [
    "Importing the dataset"
   ]
  },
  {
   "cell_type": "code",
   "execution_count": 22,
   "metadata": {},
   "outputs": [],
   "source": [
    "dataset = pd.read_csv('IRIS.csv')\n",
    "dataset.drop('sepal_width',axis=1,inplace=True)\n",
    "dataset.drop('petal_width',axis=1,inplace=True)\n",
    "x = dataset.iloc[:,:-1].values\n",
    "y = dataset.iloc[:,-1].values"
   ]
  },
  {
   "cell_type": "code",
   "execution_count": 23,
   "metadata": {},
   "outputs": [
    {
     "name": "stdout",
     "output_type": "stream",
     "text": [
      "[[5.1 1.4]\n",
      " [4.9 1.4]\n",
      " [4.7 1.3]\n",
      " [4.6 1.5]\n",
      " [5.  1.4]\n",
      " [5.4 1.7]\n",
      " [4.6 1.4]\n",
      " [5.  1.5]\n",
      " [4.4 1.4]\n",
      " [4.9 1.5]\n",
      " [5.4 1.5]\n",
      " [4.8 1.6]\n",
      " [4.8 1.4]\n",
      " [4.3 1.1]\n",
      " [5.8 1.2]\n",
      " [5.7 1.5]\n",
      " [5.4 1.3]\n",
      " [5.1 1.4]\n",
      " [5.7 1.7]\n",
      " [5.1 1.5]\n",
      " [5.4 1.7]\n",
      " [5.1 1.5]\n",
      " [4.6 1. ]\n",
      " [5.1 1.7]\n",
      " [4.8 1.9]\n",
      " [5.  1.6]\n",
      " [5.  1.6]\n",
      " [5.2 1.5]\n",
      " [5.2 1.4]\n",
      " [4.7 1.6]\n",
      " [4.8 1.6]\n",
      " [5.4 1.5]\n",
      " [5.2 1.5]\n",
      " [5.5 1.4]\n",
      " [4.9 1.5]\n",
      " [5.  1.2]\n",
      " [5.5 1.3]\n",
      " [4.9 1.5]\n",
      " [4.4 1.3]\n",
      " [5.1 1.5]\n",
      " [5.  1.3]\n",
      " [4.5 1.3]\n",
      " [4.4 1.3]\n",
      " [5.  1.6]\n",
      " [5.1 1.9]\n",
      " [4.8 1.4]\n",
      " [5.1 1.6]\n",
      " [4.6 1.4]\n",
      " [5.3 1.5]\n",
      " [5.  1.4]\n",
      " [7.  4.7]\n",
      " [6.4 4.5]\n",
      " [6.9 4.9]\n",
      " [5.5 4. ]\n",
      " [6.5 4.6]\n",
      " [5.7 4.5]\n",
      " [6.3 4.7]\n",
      " [4.9 3.3]\n",
      " [6.6 4.6]\n",
      " [5.2 3.9]\n",
      " [5.  3.5]\n",
      " [5.9 4.2]\n",
      " [6.  4. ]\n",
      " [6.1 4.7]\n",
      " [5.6 3.6]\n",
      " [6.7 4.4]\n",
      " [5.6 4.5]\n",
      " [5.8 4.1]\n",
      " [6.2 4.5]\n",
      " [5.6 3.9]\n",
      " [5.9 4.8]\n",
      " [6.1 4. ]\n",
      " [6.3 4.9]\n",
      " [6.1 4.7]\n",
      " [6.4 4.3]\n",
      " [6.6 4.4]\n",
      " [6.8 4.8]\n",
      " [6.7 5. ]\n",
      " [6.  4.5]\n",
      " [5.7 3.5]\n",
      " [5.5 3.8]\n",
      " [5.5 3.7]\n",
      " [5.8 3.9]\n",
      " [6.  5.1]\n",
      " [5.4 4.5]\n",
      " [6.  4.5]\n",
      " [6.7 4.7]\n",
      " [6.3 4.4]\n",
      " [5.6 4.1]\n",
      " [5.5 4. ]\n",
      " [5.5 4.4]\n",
      " [6.1 4.6]\n",
      " [5.8 4. ]\n",
      " [5.  3.3]\n",
      " [5.6 4.2]\n",
      " [5.7 4.2]\n",
      " [5.7 4.2]\n",
      " [6.2 4.3]\n",
      " [5.1 3. ]\n",
      " [5.7 4.1]\n",
      " [6.3 6. ]\n",
      " [5.8 5.1]\n",
      " [7.1 5.9]\n",
      " [6.3 5.6]\n",
      " [6.5 5.8]\n",
      " [7.6 6.6]\n",
      " [4.9 4.5]\n",
      " [7.3 6.3]\n",
      " [6.7 5.8]\n",
      " [7.2 6.1]\n",
      " [6.5 5.1]\n",
      " [6.4 5.3]\n",
      " [6.8 5.5]\n",
      " [5.7 5. ]\n",
      " [5.8 5.1]\n",
      " [6.4 5.3]\n",
      " [6.5 5.5]\n",
      " [7.7 6.7]\n",
      " [7.7 6.9]\n",
      " [6.  5. ]\n",
      " [6.9 5.7]\n",
      " [5.6 4.9]\n",
      " [7.7 6.7]\n",
      " [6.3 4.9]\n",
      " [6.7 5.7]\n",
      " [7.2 6. ]\n",
      " [6.2 4.8]\n",
      " [6.1 4.9]\n",
      " [6.4 5.6]\n",
      " [7.2 5.8]\n",
      " [7.4 6.1]\n",
      " [7.9 6.4]\n",
      " [6.4 5.6]\n",
      " [6.3 5.1]\n",
      " [6.1 5.6]\n",
      " [7.7 6.1]\n",
      " [6.3 5.6]\n",
      " [6.4 5.5]\n",
      " [6.  4.8]\n",
      " [6.9 5.4]\n",
      " [6.7 5.6]\n",
      " [6.9 5.1]\n",
      " [5.8 5.1]\n",
      " [6.8 5.9]\n",
      " [6.7 5.7]\n",
      " [6.7 5.2]\n",
      " [6.3 5. ]\n",
      " [6.5 5.2]\n",
      " [6.2 5.4]\n",
      " [5.9 5.1]]\n"
     ]
    }
   ],
   "source": [
    "print(x)"
   ]
  },
  {
   "cell_type": "code",
   "execution_count": 24,
   "metadata": {},
   "outputs": [
    {
     "name": "stdout",
     "output_type": "stream",
     "text": [
      "[['Iris-setosa']\n",
      " ['Iris-setosa']\n",
      " ['Iris-setosa']\n",
      " ['Iris-setosa']\n",
      " ['Iris-setosa']\n",
      " ['Iris-setosa']\n",
      " ['Iris-setosa']\n",
      " ['Iris-setosa']\n",
      " ['Iris-setosa']\n",
      " ['Iris-setosa']\n",
      " ['Iris-setosa']\n",
      " ['Iris-setosa']\n",
      " ['Iris-setosa']\n",
      " ['Iris-setosa']\n",
      " ['Iris-setosa']\n",
      " ['Iris-setosa']\n",
      " ['Iris-setosa']\n",
      " ['Iris-setosa']\n",
      " ['Iris-setosa']\n",
      " ['Iris-setosa']\n",
      " ['Iris-setosa']\n",
      " ['Iris-setosa']\n",
      " ['Iris-setosa']\n",
      " ['Iris-setosa']\n",
      " ['Iris-setosa']\n",
      " ['Iris-setosa']\n",
      " ['Iris-setosa']\n",
      " ['Iris-setosa']\n",
      " ['Iris-setosa']\n",
      " ['Iris-setosa']\n",
      " ['Iris-setosa']\n",
      " ['Iris-setosa']\n",
      " ['Iris-setosa']\n",
      " ['Iris-setosa']\n",
      " ['Iris-setosa']\n",
      " ['Iris-setosa']\n",
      " ['Iris-setosa']\n",
      " ['Iris-setosa']\n",
      " ['Iris-setosa']\n",
      " ['Iris-setosa']\n",
      " ['Iris-setosa']\n",
      " ['Iris-setosa']\n",
      " ['Iris-setosa']\n",
      " ['Iris-setosa']\n",
      " ['Iris-setosa']\n",
      " ['Iris-setosa']\n",
      " ['Iris-setosa']\n",
      " ['Iris-setosa']\n",
      " ['Iris-setosa']\n",
      " ['Iris-setosa']\n",
      " ['Iris-versicolor']\n",
      " ['Iris-versicolor']\n",
      " ['Iris-versicolor']\n",
      " ['Iris-versicolor']\n",
      " ['Iris-versicolor']\n",
      " ['Iris-versicolor']\n",
      " ['Iris-versicolor']\n",
      " ['Iris-versicolor']\n",
      " ['Iris-versicolor']\n",
      " ['Iris-versicolor']\n",
      " ['Iris-versicolor']\n",
      " ['Iris-versicolor']\n",
      " ['Iris-versicolor']\n",
      " ['Iris-versicolor']\n",
      " ['Iris-versicolor']\n",
      " ['Iris-versicolor']\n",
      " ['Iris-versicolor']\n",
      " ['Iris-versicolor']\n",
      " ['Iris-versicolor']\n",
      " ['Iris-versicolor']\n",
      " ['Iris-versicolor']\n",
      " ['Iris-versicolor']\n",
      " ['Iris-versicolor']\n",
      " ['Iris-versicolor']\n",
      " ['Iris-versicolor']\n",
      " ['Iris-versicolor']\n",
      " ['Iris-versicolor']\n",
      " ['Iris-versicolor']\n",
      " ['Iris-versicolor']\n",
      " ['Iris-versicolor']\n",
      " ['Iris-versicolor']\n",
      " ['Iris-versicolor']\n",
      " ['Iris-versicolor']\n",
      " ['Iris-versicolor']\n",
      " ['Iris-versicolor']\n",
      " ['Iris-versicolor']\n",
      " ['Iris-versicolor']\n",
      " ['Iris-versicolor']\n",
      " ['Iris-versicolor']\n",
      " ['Iris-versicolor']\n",
      " ['Iris-versicolor']\n",
      " ['Iris-versicolor']\n",
      " ['Iris-versicolor']\n",
      " ['Iris-versicolor']\n",
      " ['Iris-versicolor']\n",
      " ['Iris-versicolor']\n",
      " ['Iris-versicolor']\n",
      " ['Iris-versicolor']\n",
      " ['Iris-versicolor']\n",
      " ['Iris-versicolor']\n",
      " ['Iris-virginica']\n",
      " ['Iris-virginica']\n",
      " ['Iris-virginica']\n",
      " ['Iris-virginica']\n",
      " ['Iris-virginica']\n",
      " ['Iris-virginica']\n",
      " ['Iris-virginica']\n",
      " ['Iris-virginica']\n",
      " ['Iris-virginica']\n",
      " ['Iris-virginica']\n",
      " ['Iris-virginica']\n",
      " ['Iris-virginica']\n",
      " ['Iris-virginica']\n",
      " ['Iris-virginica']\n",
      " ['Iris-virginica']\n",
      " ['Iris-virginica']\n",
      " ['Iris-virginica']\n",
      " ['Iris-virginica']\n",
      " ['Iris-virginica']\n",
      " ['Iris-virginica']\n",
      " ['Iris-virginica']\n",
      " ['Iris-virginica']\n",
      " ['Iris-virginica']\n",
      " ['Iris-virginica']\n",
      " ['Iris-virginica']\n",
      " ['Iris-virginica']\n",
      " ['Iris-virginica']\n",
      " ['Iris-virginica']\n",
      " ['Iris-virginica']\n",
      " ['Iris-virginica']\n",
      " ['Iris-virginica']\n",
      " ['Iris-virginica']\n",
      " ['Iris-virginica']\n",
      " ['Iris-virginica']\n",
      " ['Iris-virginica']\n",
      " ['Iris-virginica']\n",
      " ['Iris-virginica']\n",
      " ['Iris-virginica']\n",
      " ['Iris-virginica']\n",
      " ['Iris-virginica']\n",
      " ['Iris-virginica']\n",
      " ['Iris-virginica']\n",
      " ['Iris-virginica']\n",
      " ['Iris-virginica']\n",
      " ['Iris-virginica']\n",
      " ['Iris-virginica']\n",
      " ['Iris-virginica']\n",
      " ['Iris-virginica']\n",
      " ['Iris-virginica']\n",
      " ['Iris-virginica']]\n"
     ]
    }
   ],
   "source": [
    "print(y.reshape(-1,1))"
   ]
  },
  {
   "cell_type": "code",
   "execution_count": 25,
   "metadata": {},
   "outputs": [
    {
     "name": "stdout",
     "output_type": "stream",
     "text": [
      "[0 0 0 0 0 0 0 0 0 0 0 0 0 0 0 0 0 0 0 0 0 0 0 0 0 0 0 0 0 0 0 0 0 0 0 0 0\n",
      " 0 0 0 0 0 0 0 0 0 0 0 0 0 1 1 1 1 1 1 1 1 1 1 1 1 1 1 1 1 1 1 1 1 1 1 1 1\n",
      " 1 1 1 1 1 1 1 1 1 1 1 1 1 1 1 1 1 1 1 1 1 1 1 1 1 1 2 2 2 2 2 2 2 2 2 2 2\n",
      " 2 2 2 2 2 2 2 2 2 2 2 2 2 2 2 2 2 2 2 2 2 2 2 2 2 2 2 2 2 2 2 2 2 2 2 2 2\n",
      " 2 2]\n"
     ]
    }
   ],
   "source": [
    "from sklearn.preprocessing import LabelEncoder\n",
    "le = LabelEncoder()\n",
    "y = le.fit_transform(y)\n",
    "print(y)\n",
    "iris=[]\n",
    "iris.append('Iris-setosa')\n",
    "iris.append('Iris-versicolor')\n",
    "iris.append('Iris-virginica')\n"
   ]
  },
  {
   "cell_type": "markdown",
   "metadata": {},
   "source": [
    "Visualising the Pair Plot to understand relation between the Variables"
   ]
  },
  {
   "cell_type": "code",
   "execution_count": 26,
   "metadata": {},
   "outputs": [
    {
     "name": "stderr",
     "output_type": "stream",
     "text": [
      "c:\\Users\\bogga\\Machine Learning (Python)\\myenv\\Lib\\site-packages\\seaborn\\axisgrid.py:118: UserWarning: The figure layout has changed to tight\n",
      "  self._figure.tight_layout(*args, **kwargs)\n"
     ]
    },
    {
     "data": {
      "image/png": "[encoded data removed]",
      "text/plain": [
       "<Figure size 500x500 with 6 Axes>"
      ]
     },
     "metadata": {},
     "output_type": "display_data"
    }
   ],
   "source": [
    "sns.pairplot(dataset)\n",
    "plt.show()"
   ]
  },
  {
   "cell_type": "markdown",
   "metadata": {},
   "source": [
    "Splitting into Training and Test sets"
   ]
  },
  {
   "cell_type": "code",
   "execution_count": 27,
   "metadata": {},
   "outputs": [],
   "source": [
    "from sklearn.model_selection import train_test_split\n",
    "x_train,x_test,y_train,y_test = train_test_split(x,y,random_state=0,test_size=0.25)"
   ]
  },
  {
   "cell_type": "markdown",
   "metadata": {},
   "source": [
    "Creating list of classifiers"
   ]
  },
  {
   "cell_type": "code",
   "execution_count": 28,
   "metadata": {},
   "outputs": [],
   "source": [
    "classifier =[]\n",
    "name = []"
   ]
  },
  {
   "cell_type": "markdown",
   "metadata": {},
   "source": [
    "Training on differnet classification models\n"
   ]
  },
  {
   "cell_type": "code",
   "execution_count": 29,
   "metadata": {},
   "outputs": [],
   "source": [
    "from sklearn.naive_bayes import GaussianNB\n",
    "classifier1= GaussianNB()\n",
    "name.append('Naive_Bayes')\n",
    "classifier1.fit(x_train,y_train)\n",
    "classifier.append(classifier1)"
   ]
  },
  {
   "cell_type": "code",
   "execution_count": 30,
   "metadata": {},
   "outputs": [],
   "source": [
    "from sklearn.tree import DecisionTreeClassifier\n",
    "classifier2 = DecisionTreeClassifier(criterion='entropy',random_state=0)\n",
    "classifier2.fit(x_train,y_train)\n",
    "classifier.append(classifier2)\n",
    "name.append('Decision Tree')"
   ]
  },
  {
   "cell_type": "code",
   "execution_count": 31,
   "metadata": {},
   "outputs": [],
   "source": [
    "from sklearn.neighbors import KNeighborsClassifier\n",
    "classifier3 = KNeighborsClassifier(metric='minkowski',n_neighbors=5,p=2)\n",
    "classifier3.fit(x_train,y_train)\n",
    "classifier.append(classifier3)\n",
    "name.append('K-Neighbour')"
   ]
  },
  {
   "cell_type": "code",
   "execution_count": 32,
   "metadata": {},
   "outputs": [],
   "source": [
    "from sklearn.svm import SVC\n",
    "classifier4 = SVC(kernel='rbf',random_state=0)\n",
    "classifier4.fit(x_train,y_train)\n",
    "classifier.append(classifier4)\n",
    "name.append('Kernel SVM')"
   ]
  },
  {
   "cell_type": "code",
   "execution_count": 33,
   "metadata": {},
   "outputs": [],
   "source": [
    "from sklearn.linear_model import LogisticRegression\n",
    "classifier5 = LogisticRegression(random_state=0)\n",
    "classifier5.fit(x_train,y_train)\n",
    "classifier.append(classifier5)\n",
    "name.append('Logisctic regression classifier')"
   ]
  },
  {
   "cell_type": "code",
   "execution_count": 34,
   "metadata": {},
   "outputs": [],
   "source": [
    "from sklearn.ensemble import RandomForestClassifier\n",
    "classifier6=RandomForestClassifier(n_estimators=10,criterion='entropy',random_state=0)\n",
    "classifier6.fit(x_train,y_train)\n",
    "classifier.append(classifier6)\n",
    "name.append('Random Forest classification')"
   ]
  },
  {
   "cell_type": "code",
   "execution_count": 35,
   "metadata": {},
   "outputs": [],
   "source": [
    "from sklearn.svm import SVC\n",
    "classifier7 = SVC(kernel='linear',random_state=0)\n",
    "classifier7.fit(x_train,y_train)\n",
    "classifier.append(classifier7)\n",
    "name.append('Support vector machine')"
   ]
  },
  {
   "cell_type": "markdown",
   "metadata": {},
   "source": [
    "Checking which model gives more accuracy"
   ]
  },
  {
   "cell_type": "code",
   "execution_count": 36,
   "metadata": {},
   "outputs": [
    {
     "name": "stdout",
     "output_type": "stream",
     "text": [
      "Naive_Bayes\n",
      "[[13  0  0]\n",
      " [ 0 13  3]\n",
      " [ 0  3  6]]\n",
      "Accuracy average over 10 different test sets :93.71%\n",
      "\n",
      "\n",
      "Decision Tree\n",
      "[[13  0  0]\n",
      " [ 0 15  1]\n",
      " [ 0  2  7]]\n",
      "Accuracy average over 10 different test sets :91.97%\n",
      "\n",
      "\n",
      "K-Neighbour\n",
      "[[13  0  0]\n",
      " [ 0 15  1]\n",
      " [ 0  0  9]]\n",
      "Accuracy average over 10 different test sets :95.45%\n",
      "\n",
      "\n",
      "Kernel SVM\n",
      "[[13  0  0]\n",
      " [ 0 15  1]\n",
      " [ 0  0  9]]\n",
      "Accuracy average over 10 different test sets :95.45%\n",
      "\n",
      "\n",
      "Logisctic regression classifier\n",
      "[[13  0  0]\n",
      " [ 0 15  1]\n",
      " [ 0  1  8]]\n",
      "Accuracy average over 10 different test sets :95.45%\n",
      "\n",
      "\n",
      "Random Forest classification\n",
      "[[13  0  0]\n",
      " [ 0 15  1]\n",
      " [ 0  1  8]]\n"
     ]
    },
    {
     "name": "stdout",
     "output_type": "stream",
     "text": [
      "Accuracy average over 10 different test sets :93.71%\n",
      "\n",
      "\n",
      "Support vector machine\n",
      "[[13  0  0]\n",
      " [ 0 15  1]\n",
      " [ 0  1  8]]\n",
      "Accuracy average over 10 different test sets :96.36%\n",
      "\n",
      "\n"
     ]
    }
   ],
   "source": [
    "from sklearn.metrics import confusion_matrix,accuracy_score\n",
    "from sklearn.model_selection import cross_val_score\n",
    "i=0\n",
    "for c in classifier:\n",
    "    print(name[i])\n",
    "    i=i+1\n",
    "    y_pred = c.predict(x_test)\n",
    "    cm =confusion_matrix(y_test,y_pred)\n",
    "    print(cm) \n",
    "    accuracies = cross_val_score(estimator=c,X = x_train,y=y_train,cv = 10)\n",
    "    print(\"Accuracy average over 10 different test sets :{:.2f}%\".format(accuracies.mean()*100))\n",
    "    print(\"\\n\")"
   ]
  },
  {
   "cell_type": "markdown",
   "metadata": {},
   "source": [
    "Predcitng the test results Using Support Vector Machine classification(Highest Average Accuracy)"
   ]
  },
  {
   "cell_type": "code",
   "execution_count": 37,
   "metadata": {},
   "outputs": [
    {
     "name": "stdout",
     "output_type": "stream",
     "text": [
      "[[2 2]\n",
      " [1 1]\n",
      " [0 0]\n",
      " [2 2]\n",
      " [0 0]\n",
      " [2 2]\n",
      " [0 0]\n",
      " [1 1]\n",
      " [1 1]\n",
      " [1 1]\n",
      " [2 2]\n",
      " [1 1]\n",
      " [1 1]\n",
      " [1 1]\n",
      " [1 1]\n",
      " [0 0]\n",
      " [1 1]\n",
      " [1 1]\n",
      " [0 0]\n",
      " [0 0]\n",
      " [2 2]\n",
      " [1 1]\n",
      " [0 0]\n",
      " [0 0]\n",
      " [1 2]\n",
      " [0 0]\n",
      " [0 0]\n",
      " [1 1]\n",
      " [1 1]\n",
      " [0 0]\n",
      " [2 2]\n",
      " [1 1]\n",
      " [0 0]\n",
      " [2 2]\n",
      " [2 2]\n",
      " [1 1]\n",
      " [0 0]\n",
      " [2 1]]\n"
     ]
    }
   ],
   "source": [
    "y_pred = classifier7.predict(x_test)\n",
    "y_pred = np.array(y_pred)\n",
    "y_test = np.array(y_test)\n",
    "print(np.concatenate((y_pred.reshape(-1,1),y_test.reshape(-1,1)),1))"
   ]
  },
  {
   "cell_type": "markdown",
   "metadata": {},
   "source": [
    "Visualising the Training set"
   ]
  },
  {
   "cell_type": "code",
   "execution_count": 42,
   "metadata": {},
   "outputs": [
    {
     "name": "stderr",
     "output_type": "stream",
     "text": [
      "C:\\Users\\bogga\\AppData\\Local\\Temp\\ipykernel_5360\\2567943421.py:10: UserWarning: *c* argument looks like a single numeric RGB or RGBA sequence, which should be avoided as value-mapping will have precedence in case its length matches with *x* & *y*.  Please use the *color* keyword-argument or provide a 2D array with a single row if you intend to specify the same RGB or RGBA value for all points.\n",
      "  plt.scatter(X_set[y_set == j, 0], X_set[y_set == j, 1], c = ListedColormap(('salmon', 'dodgerblue','green'))(i), label = iris[j])\n"
     ]
    },
    {
     "data": {
      "image/png": "[encoded data removed]",
      "text/plain": [
       "<Figure size 640x480 with 1 Axes>"
      ]
     },
     "metadata": {},
     "output_type": "display_data"
    }
   ],
   "source": [
    "from matplotlib.colors import ListedColormap\n",
    "X_set, y_set = x_train, y_train\n",
    "X1, X2 = np.meshgrid(np.arange(start = X_set[:, 0].min() - 1, stop = X_set[:, 0].max() + 1, step = 0.05),\n",
    "                     np.arange(start = X_set[:, 1].min() - 1, stop = X_set[:, 1].max() + 1, step = 0.05))\n",
    "plt.contourf(X1, X2, classifier7.predict((np.array([X1.ravel(), X2.ravel()]).T)).reshape(X1.shape),\n",
    "             alpha = 0.75, cmap = ListedColormap(('salmon', 'dodgerblue','green')))\n",
    "plt.xlim(X1.min(), X1.max())\n",
    "plt.ylim(X2.min(), X2.max())\n",
    "for i, j in enumerate(np.unique(y_set)):\n",
    "    plt.scatter(X_set[y_set == j, 0], X_set[y_set == j, 1], c = ListedColormap(('salmon', 'dodgerblue','green'))(i), label = iris[j])\n",
    "plt.title('SVM model (Train set)')\n",
    "plt.xlabel('Sepal-Length')\n",
    "plt.ylabel('Petal-length')\n",
    "plt.legend()\n",
    "plt.show()"
   ]
  },
  {
   "cell_type": "markdown",
   "metadata": {},
   "source": [
    "Visualising the Test Set"
   ]
  },
  {
   "cell_type": "code",
   "execution_count": 43,
   "metadata": {},
   "outputs": [
    {
     "name": "stderr",
     "output_type": "stream",
     "text": [
      "C:\\Users\\bogga\\AppData\\Local\\Temp\\ipykernel_5360\\1129877837.py:10: UserWarning: *c* argument looks like a single numeric RGB or RGBA sequence, which should be avoided as value-mapping will have precedence in case its length matches with *x* & *y*.  Please use the *color* keyword-argument or provide a 2D array with a single row if you intend to specify the same RGB or RGBA value for all points.\n",
      "  plt.scatter(X_set[y_set == j, 0], X_set[y_set == j, 1], c = ListedColormap(('salmon', 'dodgerblue','green'))(i), label = iris[j])\n"
     ]
    },
    {
     "data": {
      "image/png": "[encoded data removed]",
      "text/plain": [
       "<Figure size 640x480 with 1 Axes>"
      ]
     },
     "metadata": {},
     "output_type": "display_data"
    }
   ],
   "source": [
    "from matplotlib.colors import ListedColormap\n",
    "X_set, y_set = x_test, y_test\n",
    "X1, X2 = np.meshgrid(np.arange(start = X_set[:, 0].min() - 1, stop = X_set[:, 0].max() + 1, step = 0.05),\n",
    "                     np.arange(start = X_set[:, 1].min() - 1, stop = X_set[:, 1].max() + 1, step = 0.05))\n",
    "plt.contourf(X1, X2, classifier7.predict((np.array([X1.ravel(), X2.ravel()]).T)).reshape(X1.shape),\n",
    "             alpha = 0.75, cmap = ListedColormap(('salmon', 'dodgerblue','green')))\n",
    "plt.xlim(X1.min(), X1.max())\n",
    "plt.ylim(X2.min(), X2.max())\n",
    "for i, j in enumerate(np.unique(y_set)):\n",
    "    plt.scatter(X_set[y_set == j, 0], X_set[y_set == j, 1], c = ListedColormap(('salmon', 'dodgerblue','green'))(i), label = iris[j])\n",
    "plt.title('SVM model (Test set)')\n",
    "plt.xlabel('Sepal-Length')\n",
    "plt.ylabel('Petal-length')\n",
    "plt.legend()\n",
    "plt.show()"
   ]
  }
 ],
 "metadata": {
  "kernelspec": {
   "display_name": "myenv",
   "language": "python",
   "name": "python3"
  },
  "language_info": {
   "codemirror_mode": {
    "name": "ipython",
    "version": 3
   },
   "file_extension": ".py",
   "mimetype": "text/x-python",
   "name": "python",
   "nbconvert_exporter": "python",
   "pygments_lexer": "ipython3",
   "version": "3.11.4"
  },
  "orig_nbformat": 4
 },
 "nbformat": 4,
 "nbformat_minor": 2
}
